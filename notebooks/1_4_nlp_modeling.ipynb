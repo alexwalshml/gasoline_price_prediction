{
 "cells": [
  {
   "cell_type": "code",
   "execution_count": 1,
   "id": "987f6f2e-8a7d-4c2a-8e66-eb99d6679461",
   "metadata": {},
   "outputs": [],
   "source": [
    "%load_ext lab_black"
   ]
  },
  {
   "cell_type": "code",
   "execution_count": 2,
   "id": "a4f9226c-da8c-467e-addc-8b989ae84f70",
   "metadata": {},
   "outputs": [],
   "source": [
    "import pandas as pd\n",
    "import numpy as np\n",
    "\n",
    "from sklearn.pipeline import Pipeline\n",
    "from sklearn.compose import ColumnTransformer\n",
    "from sklearn.preprocessing import FunctionTransformer\n",
    "from sklearn.model_selection import train_test_split, GridSearchCV\n",
    "from sklearn.feature_extraction.text import TfidfVectorizer, CountVectorizer\n",
    "from sklearn.linear_model import LogisticRegression\n",
    "from sklearn.ensemble import RandomForestClassifier, StackingClassifier\n",
    "from sklearn.base import BaseEstimator, RegressorMixin\n",
    "from sklearn.metrics import make_scorer, ConfusionMatrixDisplay\n",
    "from imblearn.over_sampling import RandomOverSampler"
   ]
  },
  {
   "cell_type": "markdown",
   "id": "25a2db0c-9808-4702-804d-3d911624b7d6",
   "metadata": {},
   "source": [
    "# Basic NLP for forecasting\n",
    "\n",
    "Finally, the text is ready to be modeled. However, this notebook is relatively short, and that is for a few reasons. First, the classification process in general was dubious at best. I took text, which may or may not be related to changes in gas or oil prices, and then labeled them with changes in gas prices, which may or may not have anything to do with anything that was reported on that week. To do anything more than that would require a great deal of work, and as the NLP components were purely supplemental for this project, I had to spend time elsewhere. Therefore, low accuracy is to be expected.\n",
    "\n",
    "The second reason is that most models I tried didn't really differ much from one another. The would have different confusion matrices, but due to the ternary classing and low accuracy in general, it became very hard to say that one model was *quantitatively* better than another. \n",
    "\n",
    "As such, only two major things are done in this notebook: a custom scoring function is defined, and a \"good enough\" model is fitted (with default parameters). All that said, I would have liked to have done more with NLP, but it just wasn't possible with time constraints."
   ]
  },
  {
   "cell_type": "code",
   "execution_count": 16,
   "id": "c7b7e6a8-58dc-461b-a69e-3fb69542be65",
   "metadata": {},
   "outputs": [],
   "source": [
    "# load in the data\n",
    "corpus_full = pd.read_csv(\"../data/corpus.csv\").set_index(\"date\")\n",
    "\n",
    "corpus = corpus_full.loc[:\"2019-01-01\"]\n",
    "\n",
    "# define features in two groups\n",
    "language_features = [\"text_cleaned\", \"title_cleaned\"]\n",
    "supplemental_features = [\"is_opec\", \"is_brent\", \"is_wti\"]\n",
    "\n",
    "X = corpus[language_features + supplemental_features]\n",
    "\n",
    "X_full = corpus_full[language_features + supplemental_features]\n",
    "\n",
    "# ternary classification is used\n",
    "y = corpus[\"ternary\"]\n",
    "\n",
    "(\n",
    "    X_train,\n",
    "    X_test,\n",
    "    y_train,\n",
    "    y_test,\n",
    ") = train_test_split(X, y, stratify=y, random_state=42)\n",
    "\n",
    "# the data is resampled so that the minority classes are more heavily weighted\n",
    "ros = RandomOverSampler(random_state=42)\n",
    "\n",
    "X_train, y_train = ros.fit_resample(X_train, y_train)"
   ]
  },
  {
   "cell_type": "markdown",
   "id": "46f0598f-e4fa-462e-bfa2-b9a38e2802e4",
   "metadata": {},
   "source": [
    "The basic logic for the pipeline is that the data is split into the title, text, and supplementary features. The title and text are both fitted on their own random forest after being vectorized. The supplemental features are \"passed through\" the first layer of the StackingClassifier, which the class and function below allow for."
   ]
  },
  {
   "cell_type": "code",
   "execution_count": 4,
   "id": "aced9e56-7619-469e-a305-25bf93aad62d",
   "metadata": {},
   "outputs": [],
   "source": [
    "class MultiPassthrough(BaseEstimator):\n",
    "    # estimator object which does nothing\n",
    "    def fit(self, X, y):\n",
    "        return self\n",
    "\n",
    "    # when predict is called, all of the inputs are returned\n",
    "    def predict(self, X):\n",
    "        return X\n",
    "\n",
    "# transformer which returns the input\n",
    "identity = FunctionTransformer(lambda x: x)"
   ]
  },
  {
   "cell_type": "markdown",
   "id": "146b0276-cd6a-4029-b80b-aa6fe1f0d3d5",
   "metadata": {},
   "source": [
    "The one thing that did seem to significantly increase performance was to implement a custom scoring function, defined below. The formula is as follows:\n",
    "\n",
    "$$\n",
    "    S = \\sum\\left[ (|y_t| + |y_p|)\\frac{y_t y_p - 1}{y_t y_p + 1 + \\epsilon} - 10 \\frac{|y_p - y_t|}{|y_t| + \\epsilon}\\right] \\leq 0\n",
    "$$\n",
    "\n",
    "This seems like something of a strange score, but it can be summed up quite simply: if a neutral label is guessed (0), a small penalty is issued. If a positive label is guessed ($\\pm 1$), a large penalty is issued. If the label guessed is correct, no penalty is issued. Higher scores are better, with a maximum score of zero being possible."
   ]
  },
  {
   "cell_type": "code",
   "execution_count": 2,
   "id": "7039d167-487e-437a-9d43-0671b705dab4",
   "metadata": {},
   "outputs": [],
   "source": [
    "def custom_scorer(y_true, y_pred, **kwargs):\n",
    "    eps = 1e-3\n",
    "    s = np.sum(\n",
    "        (np.abs(y_true) + np.abs(y_pred))\n",
    "        * (y_true * y_pred - 1)\n",
    "        / (1 + y_true * y_pred + eps)\n",
    "        - (10 * abs(y_pred - y_true)) / (abs(y_true) + eps)\n",
    "    )\n",
    "\n",
    "    return s"
   ]
  },
  {
   "cell_type": "markdown",
   "id": "79c7cecc-bacd-4fa5-9319-5269efa3a238",
   "metadata": {},
   "source": [
    "Below, the model is defined as a stacking classifier that has three pipelines for the text, title, and supplemental feature. The GridSearchCV class is used to make use of custom scoring, but the params dictionary is currently empty as most paramters did not create significant changes. Thus, it is empty for the sake of time during rerunning."
   ]
  },
  {
   "cell_type": "code",
   "execution_count": 5,
   "id": "370e931f-503a-48e8-a7a3-9dc3709781df",
   "metadata": {},
   "outputs": [
    {
     "name": "stdout",
     "output_type": "stream",
     "text": [
      "Fitting 5 folds for each of 1 candidates, totalling 5 fits\n"
     ]
    },
    {
     "data": {
      "text/html": [
       "<style>#sk-container-id-1 {color: black;background-color: white;}#sk-container-id-1 pre{padding: 0;}#sk-container-id-1 div.sk-toggleable {background-color: white;}#sk-container-id-1 label.sk-toggleable__label {cursor: pointer;display: block;width: 100%;margin-bottom: 0;padding: 0.3em;box-sizing: border-box;text-align: center;}#sk-container-id-1 label.sk-toggleable__label-arrow:before {content: \"▸\";float: left;margin-right: 0.25em;color: #696969;}#sk-container-id-1 label.sk-toggleable__label-arrow:hover:before {color: black;}#sk-container-id-1 div.sk-estimator:hover label.sk-toggleable__label-arrow:before {color: black;}#sk-container-id-1 div.sk-toggleable__content {max-height: 0;max-width: 0;overflow: hidden;text-align: left;background-color: #f0f8ff;}#sk-container-id-1 div.sk-toggleable__content pre {margin: 0.2em;color: black;border-radius: 0.25em;background-color: #f0f8ff;}#sk-container-id-1 input.sk-toggleable__control:checked~div.sk-toggleable__content {max-height: 200px;max-width: 100%;overflow: auto;}#sk-container-id-1 input.sk-toggleable__control:checked~label.sk-toggleable__label-arrow:before {content: \"▾\";}#sk-container-id-1 div.sk-estimator input.sk-toggleable__control:checked~label.sk-toggleable__label {background-color: #d4ebff;}#sk-container-id-1 div.sk-label input.sk-toggleable__control:checked~label.sk-toggleable__label {background-color: #d4ebff;}#sk-container-id-1 input.sk-hidden--visually {border: 0;clip: rect(1px 1px 1px 1px);clip: rect(1px, 1px, 1px, 1px);height: 1px;margin: -1px;overflow: hidden;padding: 0;position: absolute;width: 1px;}#sk-container-id-1 div.sk-estimator {font-family: monospace;background-color: #f0f8ff;border: 1px dotted black;border-radius: 0.25em;box-sizing: border-box;margin-bottom: 0.5em;}#sk-container-id-1 div.sk-estimator:hover {background-color: #d4ebff;}#sk-container-id-1 div.sk-parallel-item::after {content: \"\";width: 100%;border-bottom: 1px solid gray;flex-grow: 1;}#sk-container-id-1 div.sk-label:hover label.sk-toggleable__label {background-color: #d4ebff;}#sk-container-id-1 div.sk-serial::before {content: \"\";position: absolute;border-left: 1px solid gray;box-sizing: border-box;top: 0;bottom: 0;left: 50%;z-index: 0;}#sk-container-id-1 div.sk-serial {display: flex;flex-direction: column;align-items: center;background-color: white;padding-right: 0.2em;padding-left: 0.2em;position: relative;}#sk-container-id-1 div.sk-item {position: relative;z-index: 1;}#sk-container-id-1 div.sk-parallel {display: flex;align-items: stretch;justify-content: center;background-color: white;position: relative;}#sk-container-id-1 div.sk-item::before, #sk-container-id-1 div.sk-parallel-item::before {content: \"\";position: absolute;border-left: 1px solid gray;box-sizing: border-box;top: 0;bottom: 0;left: 50%;z-index: -1;}#sk-container-id-1 div.sk-parallel-item {display: flex;flex-direction: column;z-index: 1;position: relative;background-color: white;}#sk-container-id-1 div.sk-parallel-item:first-child::after {align-self: flex-end;width: 50%;}#sk-container-id-1 div.sk-parallel-item:last-child::after {align-self: flex-start;width: 50%;}#sk-container-id-1 div.sk-parallel-item:only-child::after {width: 0;}#sk-container-id-1 div.sk-dashed-wrapped {border: 1px dashed gray;margin: 0 0.4em 0.5em 0.4em;box-sizing: border-box;padding-bottom: 0.4em;background-color: white;}#sk-container-id-1 div.sk-label label {font-family: monospace;font-weight: bold;display: inline-block;line-height: 1.2em;}#sk-container-id-1 div.sk-label-container {text-align: center;}#sk-container-id-1 div.sk-container {/* jupyter's `normalize.less` sets `[hidden] { display: none; }` but bootstrap.min.css set `[hidden] { display: none !important; }` so we also need the `!important` here to be able to override the default hidden behavior on the sphinx rendered scikit-learn.org. See: https://github.com/scikit-learn/scikit-learn/issues/21755 */display: inline-block !important;position: relative;}#sk-container-id-1 div.sk-text-repr-fallback {display: none;}</style><div id=\"sk-container-id-1\" class=\"sk-top-container\"><div class=\"sk-text-repr-fallback\"><pre>GridSearchCV(estimator=StackingClassifier(estimators=[(&#x27;title_pipe&#x27;,\n",
       "                                                       Pipeline(steps=[(&#x27;vectorizer&#x27;,\n",
       "                                                                        ColumnTransformer(transformers=[(&#x27;vectorizer&#x27;,\n",
       "                                                                                                         CountVectorizer(),\n",
       "                                                                                                         &#x27;title_cleaned&#x27;)])),\n",
       "                                                                       (&#x27;model&#x27;,\n",
       "                                                                        RandomForestClassifier())])),\n",
       "                                                      (&#x27;article_pipe&#x27;,\n",
       "                                                       Pipeline(steps=[(&#x27;vectorizer&#x27;,\n",
       "                                                                        ColumnTransformer(transformers=[(&#x27;vectorizer&#x27;,\n",
       "                                                                                                         CountVectorizer(),\n",
       "                                                                                                         &#x27;text_cleaned&#x27;)])),\n",
       "                                                                       (...\n",
       "                                                      (&#x27;supplemental_pipe&#x27;,\n",
       "                                                       Pipeline(steps=[(&#x27;transformer&#x27;,\n",
       "                                                                        ColumnTransformer(transformers=[(&#x27;transformer&#x27;,\n",
       "                                                                                                         FunctionTransformer(func=&lt;function &lt;lambda&gt; at 0x7fbeaeeb9630&gt;),\n",
       "                                                                                                         [&#x27;is_opec&#x27;,\n",
       "                                                                                                          &#x27;is_brent&#x27;,\n",
       "                                                                                                          &#x27;is_wti&#x27;])])),\n",
       "                                                                       (&#x27;passthrough&#x27;,\n",
       "                                                                        MultiPassthrough())]))],\n",
       "                                          final_estimator=LogisticRegression(),\n",
       "                                          n_jobs=-1),\n",
       "             n_jobs=-1, param_grid={}, scoring=make_scorer(custom_scorer),\n",
       "             verbose=1)</pre><b>In a Jupyter environment, please rerun this cell to show the HTML representation or trust the notebook. <br />On GitHub, the HTML representation is unable to render, please try loading this page with nbviewer.org.</b></div><div class=\"sk-container\" hidden><div class=\"sk-item sk-dashed-wrapped\"><div class=\"sk-label-container\"><div class=\"sk-label sk-toggleable\"><input class=\"sk-toggleable__control sk-hidden--visually\" id=\"sk-estimator-id-1\" type=\"checkbox\" ><label for=\"sk-estimator-id-1\" class=\"sk-toggleable__label sk-toggleable__label-arrow\">GridSearchCV</label><div class=\"sk-toggleable__content\"><pre>GridSearchCV(estimator=StackingClassifier(estimators=[(&#x27;title_pipe&#x27;,\n",
       "                                                       Pipeline(steps=[(&#x27;vectorizer&#x27;,\n",
       "                                                                        ColumnTransformer(transformers=[(&#x27;vectorizer&#x27;,\n",
       "                                                                                                         CountVectorizer(),\n",
       "                                                                                                         &#x27;title_cleaned&#x27;)])),\n",
       "                                                                       (&#x27;model&#x27;,\n",
       "                                                                        RandomForestClassifier())])),\n",
       "                                                      (&#x27;article_pipe&#x27;,\n",
       "                                                       Pipeline(steps=[(&#x27;vectorizer&#x27;,\n",
       "                                                                        ColumnTransformer(transformers=[(&#x27;vectorizer&#x27;,\n",
       "                                                                                                         CountVectorizer(),\n",
       "                                                                                                         &#x27;text_cleaned&#x27;)])),\n",
       "                                                                       (...\n",
       "                                                      (&#x27;supplemental_pipe&#x27;,\n",
       "                                                       Pipeline(steps=[(&#x27;transformer&#x27;,\n",
       "                                                                        ColumnTransformer(transformers=[(&#x27;transformer&#x27;,\n",
       "                                                                                                         FunctionTransformer(func=&lt;function &lt;lambda&gt; at 0x7fbeaeeb9630&gt;),\n",
       "                                                                                                         [&#x27;is_opec&#x27;,\n",
       "                                                                                                          &#x27;is_brent&#x27;,\n",
       "                                                                                                          &#x27;is_wti&#x27;])])),\n",
       "                                                                       (&#x27;passthrough&#x27;,\n",
       "                                                                        MultiPassthrough())]))],\n",
       "                                          final_estimator=LogisticRegression(),\n",
       "                                          n_jobs=-1),\n",
       "             n_jobs=-1, param_grid={}, scoring=make_scorer(custom_scorer),\n",
       "             verbose=1)</pre></div></div></div><div class=\"sk-parallel\"><div class=\"sk-parallel-item\"><div class=\"sk-item\"><div class=\"sk-label-container\"><div class=\"sk-label sk-toggleable\"><input class=\"sk-toggleable__control sk-hidden--visually\" id=\"sk-estimator-id-2\" type=\"checkbox\" ><label for=\"sk-estimator-id-2\" class=\"sk-toggleable__label sk-toggleable__label-arrow\">estimator: StackingClassifier</label><div class=\"sk-toggleable__content\"><pre>StackingClassifier(estimators=[(&#x27;title_pipe&#x27;,\n",
       "                                Pipeline(steps=[(&#x27;vectorizer&#x27;,\n",
       "                                                 ColumnTransformer(transformers=[(&#x27;vectorizer&#x27;,\n",
       "                                                                                  CountVectorizer(),\n",
       "                                                                                  &#x27;title_cleaned&#x27;)])),\n",
       "                                                (&#x27;model&#x27;,\n",
       "                                                 RandomForestClassifier())])),\n",
       "                               (&#x27;article_pipe&#x27;,\n",
       "                                Pipeline(steps=[(&#x27;vectorizer&#x27;,\n",
       "                                                 ColumnTransformer(transformers=[(&#x27;vectorizer&#x27;,\n",
       "                                                                                  CountVectorizer(),\n",
       "                                                                                  &#x27;text_cleaned&#x27;)])),\n",
       "                                                (&#x27;model&#x27;,\n",
       "                                                 RandomForestClassifier())])),\n",
       "                               (&#x27;supplemental_pipe&#x27;,\n",
       "                                Pipeline(steps=[(&#x27;transformer&#x27;,\n",
       "                                                 ColumnTransformer(transformers=[(&#x27;transformer&#x27;,\n",
       "                                                                                  FunctionTransformer(func=&lt;function &lt;lambda&gt; at 0x7fbeaeeb9630&gt;),\n",
       "                                                                                  [&#x27;is_opec&#x27;,\n",
       "                                                                                   &#x27;is_brent&#x27;,\n",
       "                                                                                   &#x27;is_wti&#x27;])])),\n",
       "                                                (&#x27;passthrough&#x27;,\n",
       "                                                 MultiPassthrough())]))],\n",
       "                   final_estimator=LogisticRegression(), n_jobs=-1)</pre></div></div></div><div class=\"sk-serial\"><div class=\"sk-item\"><div class=\"sk-serial\"><div class=\"sk-item\"><div class=\"sk-parallel\"><div class=\"sk-parallel-item\"><div class=\"sk-item\"><div class=\"sk-label-container\"><div class=\"sk-label sk-toggleable\"><label>title_pipe</label></div></div><div class=\"sk-serial\"><div class=\"sk-item\"><div class=\"sk-serial\"><div class=\"sk-item sk-dashed-wrapped\"><div class=\"sk-label-container\"><div class=\"sk-label sk-toggleable\"><input class=\"sk-toggleable__control sk-hidden--visually\" id=\"sk-estimator-id-3\" type=\"checkbox\" ><label for=\"sk-estimator-id-3\" class=\"sk-toggleable__label sk-toggleable__label-arrow\">vectorizer: ColumnTransformer</label><div class=\"sk-toggleable__content\"><pre>ColumnTransformer(transformers=[(&#x27;vectorizer&#x27;, CountVectorizer(),\n",
       "                                 &#x27;title_cleaned&#x27;)])</pre></div></div></div><div class=\"sk-parallel\"><div class=\"sk-parallel-item\"><div class=\"sk-item\"><div class=\"sk-label-container\"><div class=\"sk-label sk-toggleable\"><input class=\"sk-toggleable__control sk-hidden--visually\" id=\"sk-estimator-id-4\" type=\"checkbox\" ><label for=\"sk-estimator-id-4\" class=\"sk-toggleable__label sk-toggleable__label-arrow\">vectorizer</label><div class=\"sk-toggleable__content\"><pre>title_cleaned</pre></div></div></div><div class=\"sk-serial\"><div class=\"sk-item\"><div class=\"sk-estimator sk-toggleable\"><input class=\"sk-toggleable__control sk-hidden--visually\" id=\"sk-estimator-id-5\" type=\"checkbox\" ><label for=\"sk-estimator-id-5\" class=\"sk-toggleable__label sk-toggleable__label-arrow\">CountVectorizer</label><div class=\"sk-toggleable__content\"><pre>CountVectorizer()</pre></div></div></div></div></div></div></div></div><div class=\"sk-item\"><div class=\"sk-estimator sk-toggleable\"><input class=\"sk-toggleable__control sk-hidden--visually\" id=\"sk-estimator-id-6\" type=\"checkbox\" ><label for=\"sk-estimator-id-6\" class=\"sk-toggleable__label sk-toggleable__label-arrow\">RandomForestClassifier</label><div class=\"sk-toggleable__content\"><pre>RandomForestClassifier()</pre></div></div></div></div></div></div></div></div><div class=\"sk-parallel-item\"><div class=\"sk-item\"><div class=\"sk-label-container\"><div class=\"sk-label sk-toggleable\"><label>article_pipe</label></div></div><div class=\"sk-serial\"><div class=\"sk-item\"><div class=\"sk-serial\"><div class=\"sk-item sk-dashed-wrapped\"><div class=\"sk-label-container\"><div class=\"sk-label sk-toggleable\"><input class=\"sk-toggleable__control sk-hidden--visually\" id=\"sk-estimator-id-7\" type=\"checkbox\" ><label for=\"sk-estimator-id-7\" class=\"sk-toggleable__label sk-toggleable__label-arrow\">vectorizer: ColumnTransformer</label><div class=\"sk-toggleable__content\"><pre>ColumnTransformer(transformers=[(&#x27;vectorizer&#x27;, CountVectorizer(),\n",
       "                                 &#x27;text_cleaned&#x27;)])</pre></div></div></div><div class=\"sk-parallel\"><div class=\"sk-parallel-item\"><div class=\"sk-item\"><div class=\"sk-label-container\"><div class=\"sk-label sk-toggleable\"><input class=\"sk-toggleable__control sk-hidden--visually\" id=\"sk-estimator-id-8\" type=\"checkbox\" ><label for=\"sk-estimator-id-8\" class=\"sk-toggleable__label sk-toggleable__label-arrow\">vectorizer</label><div class=\"sk-toggleable__content\"><pre>text_cleaned</pre></div></div></div><div class=\"sk-serial\"><div class=\"sk-item\"><div class=\"sk-estimator sk-toggleable\"><input class=\"sk-toggleable__control sk-hidden--visually\" id=\"sk-estimator-id-9\" type=\"checkbox\" ><label for=\"sk-estimator-id-9\" class=\"sk-toggleable__label sk-toggleable__label-arrow\">CountVectorizer</label><div class=\"sk-toggleable__content\"><pre>CountVectorizer()</pre></div></div></div></div></div></div></div></div><div class=\"sk-item\"><div class=\"sk-estimator sk-toggleable\"><input class=\"sk-toggleable__control sk-hidden--visually\" id=\"sk-estimator-id-10\" type=\"checkbox\" ><label for=\"sk-estimator-id-10\" class=\"sk-toggleable__label sk-toggleable__label-arrow\">RandomForestClassifier</label><div class=\"sk-toggleable__content\"><pre>RandomForestClassifier()</pre></div></div></div></div></div></div></div></div><div class=\"sk-parallel-item\"><div class=\"sk-item\"><div class=\"sk-label-container\"><div class=\"sk-label sk-toggleable\"><label>supplemental_pipe</label></div></div><div class=\"sk-serial\"><div class=\"sk-item\"><div class=\"sk-serial\"><div class=\"sk-item sk-dashed-wrapped\"><div class=\"sk-label-container\"><div class=\"sk-label sk-toggleable\"><input class=\"sk-toggleable__control sk-hidden--visually\" id=\"sk-estimator-id-11\" type=\"checkbox\" ><label for=\"sk-estimator-id-11\" class=\"sk-toggleable__label sk-toggleable__label-arrow\">transformer: ColumnTransformer</label><div class=\"sk-toggleable__content\"><pre>ColumnTransformer(transformers=[(&#x27;transformer&#x27;,\n",
       "                                 FunctionTransformer(func=&lt;function &lt;lambda&gt; at 0x7fbeaeeb9630&gt;),\n",
       "                                 [&#x27;is_opec&#x27;, &#x27;is_brent&#x27;, &#x27;is_wti&#x27;])])</pre></div></div></div><div class=\"sk-parallel\"><div class=\"sk-parallel-item\"><div class=\"sk-item\"><div class=\"sk-label-container\"><div class=\"sk-label sk-toggleable\"><input class=\"sk-toggleable__control sk-hidden--visually\" id=\"sk-estimator-id-12\" type=\"checkbox\" ><label for=\"sk-estimator-id-12\" class=\"sk-toggleable__label sk-toggleable__label-arrow\">transformer</label><div class=\"sk-toggleable__content\"><pre>[&#x27;is_opec&#x27;, &#x27;is_brent&#x27;, &#x27;is_wti&#x27;]</pre></div></div></div><div class=\"sk-serial\"><div class=\"sk-item\"><div class=\"sk-estimator sk-toggleable\"><input class=\"sk-toggleable__control sk-hidden--visually\" id=\"sk-estimator-id-13\" type=\"checkbox\" ><label for=\"sk-estimator-id-13\" class=\"sk-toggleable__label sk-toggleable__label-arrow\">FunctionTransformer</label><div class=\"sk-toggleable__content\"><pre>FunctionTransformer(func=&lt;function &lt;lambda&gt; at 0x7fbeaeeb9630&gt;)</pre></div></div></div></div></div></div></div></div><div class=\"sk-item\"><div class=\"sk-estimator sk-toggleable\"><input class=\"sk-toggleable__control sk-hidden--visually\" id=\"sk-estimator-id-14\" type=\"checkbox\" ><label for=\"sk-estimator-id-14\" class=\"sk-toggleable__label sk-toggleable__label-arrow\">MultiPassthrough</label><div class=\"sk-toggleable__content\"><pre>MultiPassthrough()</pre></div></div></div></div></div></div></div></div></div></div><div class=\"sk-item\"><div class=\"sk-parallel\"><div class=\"sk-parallel-item\"><div class=\"sk-item\"><div class=\"sk-label-container\"><div class=\"sk-label sk-toggleable\"><label>final_estimator</label></div></div><div class=\"sk-serial\"><div class=\"sk-item\"><div class=\"sk-estimator sk-toggleable\"><input class=\"sk-toggleable__control sk-hidden--visually\" id=\"sk-estimator-id-15\" type=\"checkbox\" ><label for=\"sk-estimator-id-15\" class=\"sk-toggleable__label sk-toggleable__label-arrow\">LogisticRegression</label><div class=\"sk-toggleable__content\"><pre>LogisticRegression()</pre></div></div></div></div></div></div></div></div></div></div></div></div></div></div></div></div></div>"
      ],
      "text/plain": [
       "GridSearchCV(estimator=StackingClassifier(estimators=[('title_pipe',\n",
       "                                                       Pipeline(steps=[('vectorizer',\n",
       "                                                                        ColumnTransformer(transformers=[('vectorizer',\n",
       "                                                                                                         CountVectorizer(),\n",
       "                                                                                                         'title_cleaned')])),\n",
       "                                                                       ('model',\n",
       "                                                                        RandomForestClassifier())])),\n",
       "                                                      ('article_pipe',\n",
       "                                                       Pipeline(steps=[('vectorizer',\n",
       "                                                                        ColumnTransformer(transformers=[('vectorizer',\n",
       "                                                                                                         CountVectorizer(),\n",
       "                                                                                                         'text_cleaned')])),\n",
       "                                                                       (...\n",
       "                                                      ('supplemental_pipe',\n",
       "                                                       Pipeline(steps=[('transformer',\n",
       "                                                                        ColumnTransformer(transformers=[('transformer',\n",
       "                                                                                                         FunctionTransformer(func=<function <lambda> at 0x7fbeaeeb9630>),\n",
       "                                                                                                         ['is_opec',\n",
       "                                                                                                          'is_brent',\n",
       "                                                                                                          'is_wti'])])),\n",
       "                                                                       ('passthrough',\n",
       "                                                                        MultiPassthrough())]))],\n",
       "                                          final_estimator=LogisticRegression(),\n",
       "                                          n_jobs=-1),\n",
       "             n_jobs=-1, param_grid={}, scoring=make_scorer(custom_scorer),\n",
       "             verbose=1)"
      ]
     },
     "execution_count": 5,
     "metadata": {},
     "output_type": "execute_result"
    }
   ],
   "source": [
    "cv = CountVectorizer()\n",
    "tfidf = TfidfVectorizer()\n",
    "\n",
    "rfc = RandomForestClassifier()\n",
    "logr = LogisticRegression()\n",
    "\n",
    "mpt = MultiPassthrough()\n",
    "scorer = make_scorer(custom_scorer)\n",
    "\n",
    "title_pipe = Pipeline(\n",
    "    [\n",
    "        (\n",
    "            \"vectorizer\",\n",
    "            ColumnTransformer([(\"vectorizer\", cv, \"title_cleaned\")]),\n",
    "        ),  # the estimators are declared with initial vectorizers and models\n",
    "        (\"model\", rfc),  # but these will be replaced by the param dictionaries\n",
    "    ]\n",
    ")\n",
    "\n",
    "article_pipe = Pipeline(\n",
    "    [\n",
    "        (\"vectorizer\", ColumnTransformer([(\"vectorizer\", cv, \"text_cleaned\")])),\n",
    "        (\"model\", rfc),\n",
    "    ]\n",
    ")\n",
    "\n",
    "supplemental_pipe = Pipeline(\n",
    "    [\n",
    "        (\n",
    "            \"transformer\",\n",
    "            ColumnTransformer([(\"transformer\", identity, supplemental_features)]),\n",
    "        ),\n",
    "        (\"passthrough\", mpt),\n",
    "    ]\n",
    ")\n",
    "\n",
    "estimators = [\n",
    "    (\"title_pipe\", title_pipe),\n",
    "    (\"article_pipe\", article_pipe),\n",
    "    (\"supplemental_pipe\", supplemental_pipe),\n",
    "]\n",
    "\n",
    "final_estimator = logr\n",
    "\n",
    "model = StackingClassifier(\n",
    "    estimators=estimators, final_estimator=final_estimator, n_jobs=-1\n",
    ")\n",
    "\n",
    "params = {}\n",
    "\n",
    "gs = GridSearchCV(model, params, n_jobs=-1, verbose=1, scoring=scorer)\n",
    "\n",
    "gs.fit(X_train, y_train)"
   ]
  },
  {
   "cell_type": "markdown",
   "id": "d810fdf9-bf98-46d9-8a63-c4b92112b54e",
   "metadata": {},
   "source": [
    "Below, the confusion matrix for the model is displayed. As intended, the model overwhelmingly chooses the neutral label, and *most* of the positive labels are correct. However, the NLP model has not been rigorously defined and tested. Moving forward, this is one of the first areas that I intend to make improvements."
   ]
  },
  {
   "cell_type": "code",
   "execution_count": 7,
   "id": "5d750458-0d14-4c12-b45d-41fc3d079cca",
   "metadata": {},
   "outputs": [
    {
     "data": {
      "text/plain": [
       "<sklearn.metrics._plot.confusion_matrix.ConfusionMatrixDisplay at 0x7fbeb2303430>"
      ]
     },
     "execution_count": 7,
     "metadata": {},
     "output_type": "execute_result"
    },
    {
     "data": {
      "image/png": "[encoded data removed]",
      "text/plain": [
       "<Figure size 640x480 with 2 Axes>"
      ]
     },
     "metadata": {},
     "output_type": "display_data"
    }
   ],
   "source": [
    "ConfusionMatrixDisplay.from_estimator(gs, X_test, y_test)"
   ]
  },
  {
   "cell_type": "code",
   "execution_count": 17,
   "id": "46b179e7-e0a8-4427-b799-9c2c08f06f6b",
   "metadata": {},
   "outputs": [
    {
     "data": {
      "text/plain": [
       "array([0, 0, 0, ..., 0, 0, 0])"
      ]
     },
     "execution_count": 17,
     "metadata": {},
     "output_type": "execute_result"
    }
   ],
   "source": [
    "nlp_labels = gs.predict(X_full)"
   ]
  },
  {
   "cell_type": "markdown",
   "id": "5377a6a7-628b-48fc-abd9-972df1ac26c4",
   "metadata": {},
   "source": [
    "The labels for whether the NLP predicts if gas price will increase or decrease in the next week are then assigned to date labels and written to a file."
   ]
  },
  {
   "cell_type": "code",
   "execution_count": 21,
   "id": "8559ae44-f4b6-4c7c-8fd6-81228b312755",
   "metadata": {},
   "outputs": [],
   "source": [
    "nlp_processed = pd.DataFrame(nlp_labels, columns=[\"nlp_label\"])\n",
    "nlp_processed[\"date\"] = corpus_full.index\n",
    "\n",
    "nlp_predictions = nlp_processed.groupby(\"date\").mean().reset_index()\n",
    "nlp_predictions = nlp_predictions.set_index(\"date\")"
   ]
  },
  {
   "cell_type": "code",
   "execution_count": 22,
   "id": "b02d68f8-98d3-41e0-b2ae-7b990e3f1713",
   "metadata": {},
   "outputs": [],
   "source": [
    "nlp_predictions.to_csv(\"../data/nlp_predictions.csv\")"
   ]
  }
 ],
 "metadata": {
  "kernelspec": {
   "display_name": "Python 3",
   "language": "python",
   "name": "python3"
  },
  "language_info": {
   "codemirror_mode": {
    "name": "ipython",
    "version": 3
   },
   "file_extension": ".py",
   "mimetype": "text/x-python",
   "name": "python",
   "nbconvert_exporter": "python",
   "pygments_lexer": "ipython3",
   "version": "3.10.8"
  }
 },
 "nbformat": 4,
 "nbformat_minor": 5
}

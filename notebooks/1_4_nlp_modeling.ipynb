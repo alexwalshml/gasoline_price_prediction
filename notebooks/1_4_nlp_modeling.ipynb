{
 "cells": [
  {
   "cell_type": "code",
   "execution_count": 1,
   "id": "987f6f2e-8a7d-4c2a-8e66-eb99d6679461",
   "metadata": {},
   "outputs": [],
   "source": [
    "%load_ext lab_black"
   ]
  },
  {
   "cell_type": "code",
   "execution_count": 2,
   "id": "a4f9226c-da8c-467e-addc-8b989ae84f70",
   "metadata": {},
   "outputs": [],
   "source": [
    "import pandas as pd\n",
    "import numpy as np\n",
    "\n",
    "from sklearn.pipeline import Pipeline\n",
    "from sklearn.compose import ColumnTransformer\n",
    "from sklearn.preprocessing import FunctionTransformer\n",
    "from sklearn.model_selection import train_test_split, GridSearchCV\n",
    "from sklearn.feature_extraction.text import TfidfVectorizer, CountVectorizer\n",
    "from sklearn.linear_model import LogisticRegression\n",
    "from sklearn.ensemble import RandomForestClassifier, StackingClassifier\n",
    "from sklearn.base import BaseEstimator, RegressorMixin\n",
    "from sklearn.metrics import make_scorer, ConfusionMatrixDisplay\n",
    "from imblearn.over_sampling import RandomOverSampler"
   ]
  },
  {
   "cell_type": "code",
   "execution_count": 3,
   "id": "c7b7e6a8-58dc-461b-a69e-3fb69542be65",
   "metadata": {},
   "outputs": [],
   "source": [
    "corpus = pd.read_csv(\"../data/corpus.csv\").set_index(\"date\")\n",
    "\n",
    "corpus = corpus.loc[:\"2019-01-01\"]\n",
    "\n",
    "language_features = [\"text_cleaned\", \"title_cleaned\"]\n",
    "supplemental_features = [\"is_opec\", \"is_brent\", \"is_wti\"]\n",
    "\n",
    "X = corpus[language_features + supplemental_features]\n",
    "\n",
    "y = corpus[\"ternary\"]\n",
    "\n",
    "(\n",
    "    X_train,\n",
    "    X_test,\n",
    "    y_train,\n",
    "    y_test,\n",
    ") = train_test_split(X, y, stratify=y, random_state=42)\n",
    "\n",
    "ros = RandomOverSampler(random_state=42)\n",
    "\n",
    "X_train, y_train = ros.fit_resample(X_train, y_train)"
   ]
  },
  {
   "cell_type": "code",
   "execution_count": 4,
   "id": "aced9e56-7619-469e-a305-25bf93aad62d",
   "metadata": {},
   "outputs": [],
   "source": [
    "class MultiPassthrough(BaseEstimator):\n",
    "    def fit(self, X, y):\n",
    "        return self\n",
    "\n",
    "    def predict(self, X):\n",
    "        return X\n",
    "\n",
    "\n",
    "identity = FunctionTransformer(lambda x: x)\n",
    "\n",
    "\n",
    "def custom_scorer(y_true, y_pred, **kwargs):\n",
    "    eps = 1e-3\n",
    "    s = np.sum(\n",
    "        (np.abs(y_true) + np.abs(y_pred))\n",
    "        * (y_true * y_pred - 1)\n",
    "        / (1 + y_true * y_pred + eps)\n",
    "        - (10 * abs(y_pred - y_true)) / (abs(y_true) + eps)\n",
    "    )\n",
    "\n",
    "    return s"
   ]
  },
  {
   "cell_type": "code",
   "execution_count": 5,
   "id": "370e931f-503a-48e8-a7a3-9dc3709781df",
   "metadata": {},
   "outputs": [
    {
     "name": "stdout",
     "output_type": "stream",
     "text": [
      "Fitting 2 folds for each of 1 candidates, totalling 2 fits\n"
     ]
    },
    {
     "data": {
      "text/html": [
       "<style>#sk-container-id-1 {color: black;background-color: white;}#sk-container-id-1 pre{padding: 0;}#sk-container-id-1 div.sk-toggleable {background-color: white;}#sk-container-id-1 label.sk-toggleable__label {cursor: pointer;display: block;width: 100%;margin-bottom: 0;padding: 0.3em;box-sizing: border-box;text-align: center;}#sk-container-id-1 label.sk-toggleable__label-arrow:before {content: \"▸\";float: left;margin-right: 0.25em;color: #696969;}#sk-container-id-1 label.sk-toggleable__label-arrow:hover:before {color: black;}#sk-container-id-1 div.sk-estimator:hover label.sk-toggleable__label-arrow:before {color: black;}#sk-container-id-1 div.sk-toggleable__content {max-height: 0;max-width: 0;overflow: hidden;text-align: left;background-color: #f0f8ff;}#sk-container-id-1 div.sk-toggleable__content pre {margin: 0.2em;color: black;border-radius: 0.25em;background-color: #f0f8ff;}#sk-container-id-1 input.sk-toggleable__control:checked~div.sk-toggleable__content {max-height: 200px;max-width: 100%;overflow: auto;}#sk-container-id-1 input.sk-toggleable__control:checked~label.sk-toggleable__label-arrow:before {content: \"▾\";}#sk-container-id-1 div.sk-estimator input.sk-toggleable__control:checked~label.sk-toggleable__label {background-color: #d4ebff;}#sk-container-id-1 div.sk-label input.sk-toggleable__control:checked~label.sk-toggleable__label {background-color: #d4ebff;}#sk-container-id-1 input.sk-hidden--visually {border: 0;clip: rect(1px 1px 1px 1px);clip: rect(1px, 1px, 1px, 1px);height: 1px;margin: -1px;overflow: hidden;padding: 0;position: absolute;width: 1px;}#sk-container-id-1 div.sk-estimator {font-family: monospace;background-color: #f0f8ff;border: 1px dotted black;border-radius: 0.25em;box-sizing: border-box;margin-bottom: 0.5em;}#sk-container-id-1 div.sk-estimator:hover {background-color: #d4ebff;}#sk-container-id-1 div.sk-parallel-item::after {content: \"\";width: 100%;border-bottom: 1px solid gray;flex-grow: 1;}#sk-container-id-1 div.sk-label:hover label.sk-toggleable__label {background-color: #d4ebff;}#sk-container-id-1 div.sk-serial::before {content: \"\";position: absolute;border-left: 1px solid gray;box-sizing: border-box;top: 0;bottom: 0;left: 50%;z-index: 0;}#sk-container-id-1 div.sk-serial {display: flex;flex-direction: column;align-items: center;background-color: white;padding-right: 0.2em;padding-left: 0.2em;position: relative;}#sk-container-id-1 div.sk-item {position: relative;z-index: 1;}#sk-container-id-1 div.sk-parallel {display: flex;align-items: stretch;justify-content: center;background-color: white;position: relative;}#sk-container-id-1 div.sk-item::before, #sk-container-id-1 div.sk-parallel-item::before {content: \"\";position: absolute;border-left: 1px solid gray;box-sizing: border-box;top: 0;bottom: 0;left: 50%;z-index: -1;}#sk-container-id-1 div.sk-parallel-item {display: flex;flex-direction: column;z-index: 1;position: relative;background-color: white;}#sk-container-id-1 div.sk-parallel-item:first-child::after {align-self: flex-end;width: 50%;}#sk-container-id-1 div.sk-parallel-item:last-child::after {align-self: flex-start;width: 50%;}#sk-container-id-1 div.sk-parallel-item:only-child::after {width: 0;}#sk-container-id-1 div.sk-dashed-wrapped {border: 1px dashed gray;margin: 0 0.4em 0.5em 0.4em;box-sizing: border-box;padding-bottom: 0.4em;background-color: white;}#sk-container-id-1 div.sk-label label {font-family: monospace;font-weight: bold;display: inline-block;line-height: 1.2em;}#sk-container-id-1 div.sk-label-container {text-align: center;}#sk-container-id-1 div.sk-container {/* jupyter's `normalize.less` sets `[hidden] { display: none; }` but bootstrap.min.css set `[hidden] { display: none !important; }` so we also need the `!important` here to be able to override the default hidden behavior on the sphinx rendered scikit-learn.org. See: https://github.com/scikit-learn/scikit-learn/issues/21755 */display: inline-block !important;position: relative;}#sk-container-id-1 div.sk-text-repr-fallback {display: none;}</style><div id=\"sk-container-id-1\" class=\"sk-top-container\"><div class=\"sk-text-repr-fallback\"><pre>GridSearchCV(cv=2,\n",
       "             estimator=StackingClassifier(estimators=[(&#x27;title_pipe&#x27;,\n",
       "                                                       Pipeline(steps=[(&#x27;vectorizer&#x27;,\n",
       "                                                                        ColumnTransformer(transformers=[(&#x27;vectorizer&#x27;,\n",
       "                                                                                                         CountVectorizer(),\n",
       "                                                                                                         &#x27;title_cleaned&#x27;)])),\n",
       "                                                                       (&#x27;model&#x27;,\n",
       "                                                                        RandomForestClassifier())])),\n",
       "                                                      (&#x27;article_pipe&#x27;,\n",
       "                                                       Pipeline(steps=[(&#x27;vectorizer&#x27;,\n",
       "                                                                        ColumnTransformer(transformers=[(&#x27;vectorizer&#x27;,\n",
       "                                                                                                         CountVectorizer(),\n",
       "                                                                                                         &#x27;text_cleaned&#x27;)...\n",
       "                                                      (&#x27;supplemental_pipe&#x27;,\n",
       "                                                       Pipeline(steps=[(&#x27;transformer&#x27;,\n",
       "                                                                        ColumnTransformer(transformers=[(&#x27;transformer&#x27;,\n",
       "                                                                                                         FunctionTransformer(func=&lt;function &lt;lambda&gt; at 0x7f6e05abd5a0&gt;),\n",
       "                                                                                                         [&#x27;is_opec&#x27;,\n",
       "                                                                                                          &#x27;is_brent&#x27;,\n",
       "                                                                                                          &#x27;is_wti&#x27;])])),\n",
       "                                                                       (&#x27;passthrough&#x27;,\n",
       "                                                                        MultiPassthrough())]))],\n",
       "                                          final_estimator=LogisticRegression(),\n",
       "                                          n_jobs=-1),\n",
       "             n_jobs=-1, param_grid={}, scoring=make_scorer(custom_scorer),\n",
       "             verbose=1)</pre><b>In a Jupyter environment, please rerun this cell to show the HTML representation or trust the notebook. <br />On GitHub, the HTML representation is unable to render, please try loading this page with nbviewer.org.</b></div><div class=\"sk-container\" hidden><div class=\"sk-item sk-dashed-wrapped\"><div class=\"sk-label-container\"><div class=\"sk-label sk-toggleable\"><input class=\"sk-toggleable__control sk-hidden--visually\" id=\"sk-estimator-id-1\" type=\"checkbox\" ><label for=\"sk-estimator-id-1\" class=\"sk-toggleable__label sk-toggleable__label-arrow\">GridSearchCV</label><div class=\"sk-toggleable__content\"><pre>GridSearchCV(cv=2,\n",
       "             estimator=StackingClassifier(estimators=[(&#x27;title_pipe&#x27;,\n",
       "                                                       Pipeline(steps=[(&#x27;vectorizer&#x27;,\n",
       "                                                                        ColumnTransformer(transformers=[(&#x27;vectorizer&#x27;,\n",
       "                                                                                                         CountVectorizer(),\n",
       "                                                                                                         &#x27;title_cleaned&#x27;)])),\n",
       "                                                                       (&#x27;model&#x27;,\n",
       "                                                                        RandomForestClassifier())])),\n",
       "                                                      (&#x27;article_pipe&#x27;,\n",
       "                                                       Pipeline(steps=[(&#x27;vectorizer&#x27;,\n",
       "                                                                        ColumnTransformer(transformers=[(&#x27;vectorizer&#x27;,\n",
       "                                                                                                         CountVectorizer(),\n",
       "                                                                                                         &#x27;text_cleaned&#x27;)...\n",
       "                                                      (&#x27;supplemental_pipe&#x27;,\n",
       "                                                       Pipeline(steps=[(&#x27;transformer&#x27;,\n",
       "                                                                        ColumnTransformer(transformers=[(&#x27;transformer&#x27;,\n",
       "                                                                                                         FunctionTransformer(func=&lt;function &lt;lambda&gt; at 0x7f6e05abd5a0&gt;),\n",
       "                                                                                                         [&#x27;is_opec&#x27;,\n",
       "                                                                                                          &#x27;is_brent&#x27;,\n",
       "                                                                                                          &#x27;is_wti&#x27;])])),\n",
       "                                                                       (&#x27;passthrough&#x27;,\n",
       "                                                                        MultiPassthrough())]))],\n",
       "                                          final_estimator=LogisticRegression(),\n",
       "                                          n_jobs=-1),\n",
       "             n_jobs=-1, param_grid={}, scoring=make_scorer(custom_scorer),\n",
       "             verbose=1)</pre></div></div></div><div class=\"sk-parallel\"><div class=\"sk-parallel-item\"><div class=\"sk-item\"><div class=\"sk-label-container\"><div class=\"sk-label sk-toggleable\"><input class=\"sk-toggleable__control sk-hidden--visually\" id=\"sk-estimator-id-2\" type=\"checkbox\" ><label for=\"sk-estimator-id-2\" class=\"sk-toggleable__label sk-toggleable__label-arrow\">estimator: StackingClassifier</label><div class=\"sk-toggleable__content\"><pre>StackingClassifier(estimators=[(&#x27;title_pipe&#x27;,\n",
       "                                Pipeline(steps=[(&#x27;vectorizer&#x27;,\n",
       "                                                 ColumnTransformer(transformers=[(&#x27;vectorizer&#x27;,\n",
       "                                                                                  CountVectorizer(),\n",
       "                                                                                  &#x27;title_cleaned&#x27;)])),\n",
       "                                                (&#x27;model&#x27;,\n",
       "                                                 RandomForestClassifier())])),\n",
       "                               (&#x27;article_pipe&#x27;,\n",
       "                                Pipeline(steps=[(&#x27;vectorizer&#x27;,\n",
       "                                                 ColumnTransformer(transformers=[(&#x27;vectorizer&#x27;,\n",
       "                                                                                  CountVectorizer(),\n",
       "                                                                                  &#x27;text_cleaned&#x27;)])),\n",
       "                                                (&#x27;model&#x27;,\n",
       "                                                 RandomForestClassifier())])),\n",
       "                               (&#x27;supplemental_pipe&#x27;,\n",
       "                                Pipeline(steps=[(&#x27;transformer&#x27;,\n",
       "                                                 ColumnTransformer(transformers=[(&#x27;transformer&#x27;,\n",
       "                                                                                  FunctionTransformer(func=&lt;function &lt;lambda&gt; at 0x7f6e05abd5a0&gt;),\n",
       "                                                                                  [&#x27;is_opec&#x27;,\n",
       "                                                                                   &#x27;is_brent&#x27;,\n",
       "                                                                                   &#x27;is_wti&#x27;])])),\n",
       "                                                (&#x27;passthrough&#x27;,\n",
       "                                                 MultiPassthrough())]))],\n",
       "                   final_estimator=LogisticRegression(), n_jobs=-1)</pre></div></div></div><div class=\"sk-serial\"><div class=\"sk-item\"><div class=\"sk-serial\"><div class=\"sk-item\"><div class=\"sk-parallel\"><div class=\"sk-parallel-item\"><div class=\"sk-item\"><div class=\"sk-label-container\"><div class=\"sk-label sk-toggleable\"><label>title_pipe</label></div></div><div class=\"sk-serial\"><div class=\"sk-item\"><div class=\"sk-serial\"><div class=\"sk-item sk-dashed-wrapped\"><div class=\"sk-label-container\"><div class=\"sk-label sk-toggleable\"><input class=\"sk-toggleable__control sk-hidden--visually\" id=\"sk-estimator-id-3\" type=\"checkbox\" ><label for=\"sk-estimator-id-3\" class=\"sk-toggleable__label sk-toggleable__label-arrow\">vectorizer: ColumnTransformer</label><div class=\"sk-toggleable__content\"><pre>ColumnTransformer(transformers=[(&#x27;vectorizer&#x27;, CountVectorizer(),\n",
       "                                 &#x27;title_cleaned&#x27;)])</pre></div></div></div><div class=\"sk-parallel\"><div class=\"sk-parallel-item\"><div class=\"sk-item\"><div class=\"sk-label-container\"><div class=\"sk-label sk-toggleable\"><input class=\"sk-toggleable__control sk-hidden--visually\" id=\"sk-estimator-id-4\" type=\"checkbox\" ><label for=\"sk-estimator-id-4\" class=\"sk-toggleable__label sk-toggleable__label-arrow\">vectorizer</label><div class=\"sk-toggleable__content\"><pre>title_cleaned</pre></div></div></div><div class=\"sk-serial\"><div class=\"sk-item\"><div class=\"sk-estimator sk-toggleable\"><input class=\"sk-toggleable__control sk-hidden--visually\" id=\"sk-estimator-id-5\" type=\"checkbox\" ><label for=\"sk-estimator-id-5\" class=\"sk-toggleable__label sk-toggleable__label-arrow\">CountVectorizer</label><div class=\"sk-toggleable__content\"><pre>CountVectorizer()</pre></div></div></div></div></div></div></div></div><div class=\"sk-item\"><div class=\"sk-estimator sk-toggleable\"><input class=\"sk-toggleable__control sk-hidden--visually\" id=\"sk-estimator-id-6\" type=\"checkbox\" ><label for=\"sk-estimator-id-6\" class=\"sk-toggleable__label sk-toggleable__label-arrow\">RandomForestClassifier</label><div class=\"sk-toggleable__content\"><pre>RandomForestClassifier()</pre></div></div></div></div></div></div></div></div><div class=\"sk-parallel-item\"><div class=\"sk-item\"><div class=\"sk-label-container\"><div class=\"sk-label sk-toggleable\"><label>article_pipe</label></div></div><div class=\"sk-serial\"><div class=\"sk-item\"><div class=\"sk-serial\"><div class=\"sk-item sk-dashed-wrapped\"><div class=\"sk-label-container\"><div class=\"sk-label sk-toggleable\"><input class=\"sk-toggleable__control sk-hidden--visually\" id=\"sk-estimator-id-7\" type=\"checkbox\" ><label for=\"sk-estimator-id-7\" class=\"sk-toggleable__label sk-toggleable__label-arrow\">vectorizer: ColumnTransformer</label><div class=\"sk-toggleable__content\"><pre>ColumnTransformer(transformers=[(&#x27;vectorizer&#x27;, CountVectorizer(),\n",
       "                                 &#x27;text_cleaned&#x27;)])</pre></div></div></div><div class=\"sk-parallel\"><div class=\"sk-parallel-item\"><div class=\"sk-item\"><div class=\"sk-label-container\"><div class=\"sk-label sk-toggleable\"><input class=\"sk-toggleable__control sk-hidden--visually\" id=\"sk-estimator-id-8\" type=\"checkbox\" ><label for=\"sk-estimator-id-8\" class=\"sk-toggleable__label sk-toggleable__label-arrow\">vectorizer</label><div class=\"sk-toggleable__content\"><pre>text_cleaned</pre></div></div></div><div class=\"sk-serial\"><div class=\"sk-item\"><div class=\"sk-estimator sk-toggleable\"><input class=\"sk-toggleable__control sk-hidden--visually\" id=\"sk-estimator-id-9\" type=\"checkbox\" ><label for=\"sk-estimator-id-9\" class=\"sk-toggleable__label sk-toggleable__label-arrow\">CountVectorizer</label><div class=\"sk-toggleable__content\"><pre>CountVectorizer()</pre></div></div></div></div></div></div></div></div><div class=\"sk-item\"><div class=\"sk-estimator sk-toggleable\"><input class=\"sk-toggleable__control sk-hidden--visually\" id=\"sk-estimator-id-10\" type=\"checkbox\" ><label for=\"sk-estimator-id-10\" class=\"sk-toggleable__label sk-toggleable__label-arrow\">RandomForestClassifier</label><div class=\"sk-toggleable__content\"><pre>RandomForestClassifier()</pre></div></div></div></div></div></div></div></div><div class=\"sk-parallel-item\"><div class=\"sk-item\"><div class=\"sk-label-container\"><div class=\"sk-label sk-toggleable\"><label>supplemental_pipe</label></div></div><div class=\"sk-serial\"><div class=\"sk-item\"><div class=\"sk-serial\"><div class=\"sk-item sk-dashed-wrapped\"><div class=\"sk-label-container\"><div class=\"sk-label sk-toggleable\"><input class=\"sk-toggleable__control sk-hidden--visually\" id=\"sk-estimator-id-11\" type=\"checkbox\" ><label for=\"sk-estimator-id-11\" class=\"sk-toggleable__label sk-toggleable__label-arrow\">transformer: ColumnTransformer</label><div class=\"sk-toggleable__content\"><pre>ColumnTransformer(transformers=[(&#x27;transformer&#x27;,\n",
       "                                 FunctionTransformer(func=&lt;function &lt;lambda&gt; at 0x7f6e05abd5a0&gt;),\n",
       "                                 [&#x27;is_opec&#x27;, &#x27;is_brent&#x27;, &#x27;is_wti&#x27;])])</pre></div></div></div><div class=\"sk-parallel\"><div class=\"sk-parallel-item\"><div class=\"sk-item\"><div class=\"sk-label-container\"><div class=\"sk-label sk-toggleable\"><input class=\"sk-toggleable__control sk-hidden--visually\" id=\"sk-estimator-id-12\" type=\"checkbox\" ><label for=\"sk-estimator-id-12\" class=\"sk-toggleable__label sk-toggleable__label-arrow\">transformer</label><div class=\"sk-toggleable__content\"><pre>[&#x27;is_opec&#x27;, &#x27;is_brent&#x27;, &#x27;is_wti&#x27;]</pre></div></div></div><div class=\"sk-serial\"><div class=\"sk-item\"><div class=\"sk-estimator sk-toggleable\"><input class=\"sk-toggleable__control sk-hidden--visually\" id=\"sk-estimator-id-13\" type=\"checkbox\" ><label for=\"sk-estimator-id-13\" class=\"sk-toggleable__label sk-toggleable__label-arrow\">FunctionTransformer</label><div class=\"sk-toggleable__content\"><pre>FunctionTransformer(func=&lt;function &lt;lambda&gt; at 0x7f6e05abd5a0&gt;)</pre></div></div></div></div></div></div></div></div><div class=\"sk-item\"><div class=\"sk-estimator sk-toggleable\"><input class=\"sk-toggleable__control sk-hidden--visually\" id=\"sk-estimator-id-14\" type=\"checkbox\" ><label for=\"sk-estimator-id-14\" class=\"sk-toggleable__label sk-toggleable__label-arrow\">MultiPassthrough</label><div class=\"sk-toggleable__content\"><pre>MultiPassthrough()</pre></div></div></div></div></div></div></div></div></div></div><div class=\"sk-item\"><div class=\"sk-parallel\"><div class=\"sk-parallel-item\"><div class=\"sk-item\"><div class=\"sk-label-container\"><div class=\"sk-label sk-toggleable\"><label>final_estimator</label></div></div><div class=\"sk-serial\"><div class=\"sk-item\"><div class=\"sk-estimator sk-toggleable\"><input class=\"sk-toggleable__control sk-hidden--visually\" id=\"sk-estimator-id-15\" type=\"checkbox\" ><label for=\"sk-estimator-id-15\" class=\"sk-toggleable__label sk-toggleable__label-arrow\">LogisticRegression</label><div class=\"sk-toggleable__content\"><pre>LogisticRegression()</pre></div></div></div></div></div></div></div></div></div></div></div></div></div></div></div></div></div>"
      ],
      "text/plain": [
       "GridSearchCV(cv=2,\n",
       "             estimator=StackingClassifier(estimators=[('title_pipe',\n",
       "                                                       Pipeline(steps=[('vectorizer',\n",
       "                                                                        ColumnTransformer(transformers=[('vectorizer',\n",
       "                                                                                                         CountVectorizer(),\n",
       "                                                                                                         'title_cleaned')])),\n",
       "                                                                       ('model',\n",
       "                                                                        RandomForestClassifier())])),\n",
       "                                                      ('article_pipe',\n",
       "                                                       Pipeline(steps=[('vectorizer',\n",
       "                                                                        ColumnTransformer(transformers=[('vectorizer',\n",
       "                                                                                                         CountVectorizer(),\n",
       "                                                                                                         'text_cleaned')...\n",
       "                                                      ('supplemental_pipe',\n",
       "                                                       Pipeline(steps=[('transformer',\n",
       "                                                                        ColumnTransformer(transformers=[('transformer',\n",
       "                                                                                                         FunctionTransformer(func=<function <lambda> at 0x7f6e05abd5a0>),\n",
       "                                                                                                         ['is_opec',\n",
       "                                                                                                          'is_brent',\n",
       "                                                                                                          'is_wti'])])),\n",
       "                                                                       ('passthrough',\n",
       "                                                                        MultiPassthrough())]))],\n",
       "                                          final_estimator=LogisticRegression(),\n",
       "                                          n_jobs=-1),\n",
       "             n_jobs=-1, param_grid={}, scoring=make_scorer(custom_scorer),\n",
       "             verbose=1)"
      ]
     },
     "execution_count": 5,
     "metadata": {},
     "output_type": "execute_result"
    }
   ],
   "source": [
    "cv = CountVectorizer()\n",
    "tfidf = TfidfVectorizer()\n",
    "\n",
    "rfc = RandomForestClassifier()\n",
    "logr = LogisticRegression()\n",
    "\n",
    "mpt = MultiPassthrough()\n",
    "scorer = make_scorer(custom_scorer)\n",
    "\n",
    "title_pipe = Pipeline(\n",
    "    [\n",
    "        (\n",
    "            \"vectorizer\",\n",
    "            ColumnTransformer([(\"vectorizer\", cv, \"title_cleaned\")]),\n",
    "        ),  # the estimators are declared with initial vectorizers and models\n",
    "        (\"model\", rfc),  # but these will be replaced by the param dictionaries\n",
    "    ]\n",
    ")\n",
    "\n",
    "article_pipe = Pipeline(\n",
    "    [\n",
    "        (\"vectorizer\", ColumnTransformer([(\"vectorizer\", cv, \"text_cleaned\")])),\n",
    "        (\"model\", rfc),\n",
    "    ]\n",
    ")\n",
    "\n",
    "supplemental_pipe = Pipeline(\n",
    "    [\n",
    "        (\n",
    "            \"transformer\",\n",
    "            ColumnTransformer([(\"transformer\", identity, supplemental_features)]),\n",
    "        ),\n",
    "        (\"passthrough\", mpt),\n",
    "    ]\n",
    ")\n",
    "\n",
    "estimators = [\n",
    "    (\"title_pipe\", title_pipe),\n",
    "    (\"article_pipe\", article_pipe),\n",
    "    (\"supplemental_pipe\", supplemental_pipe),\n",
    "]\n",
    "\n",
    "final_estimator = logr\n",
    "\n",
    "model = StackingClassifier(\n",
    "    estimators=estimators, final_estimator=final_estimator, n_jobs=-1\n",
    ")\n",
    "\n",
    "params = {}\n",
    "\n",
    "gs = GridSearchCV(model, params, n_jobs=-1, verbose=1, cv=2, scoring=scorer)\n",
    "\n",
    "gs.fit(X_train, y_train)"
   ]
  },
  {
   "cell_type": "code",
   "execution_count": 6,
   "id": "d7d67252-5b21-4308-aa8b-43330431ee49",
   "metadata": {},
   "outputs": [
    {
     "data": {
      "text/plain": [
       "-1924836.1638361642"
      ]
     },
     "execution_count": 6,
     "metadata": {},
     "output_type": "execute_result"
    }
   ],
   "source": [
    "gs.score(X_test, y_test)"
   ]
  },
  {
   "cell_type": "code",
   "execution_count": 7,
   "id": "d97b2c8c-b0b0-4239-92a1-d326a900eabe",
   "metadata": {},
   "outputs": [
    {
     "data": {
      "text/plain": [
       "0.4510320184305797"
      ]
     },
     "execution_count": 7,
     "metadata": {},
     "output_type": "execute_result"
    }
   ],
   "source": [
    "len(corpus[corpus[\"ternary\"] == 0]) / len(corpus)"
   ]
  },
  {
   "cell_type": "code",
   "execution_count": 8,
   "id": "5d750458-0d14-4c12-b45d-41fc3d079cca",
   "metadata": {},
   "outputs": [
    {
     "data": {
      "text/plain": [
       "<sklearn.metrics._plot.confusion_matrix.ConfusionMatrixDisplay at 0x7f6e6c8a9390>"
      ]
     },
     "execution_count": 8,
     "metadata": {},
     "output_type": "execute_result"
    },
    {
     "data": {
      "image/png": "[encoded data removed]",
      "text/plain": [
       "<Figure size 640x480 with 2 Axes>"
      ]
     },
     "metadata": {},
     "output_type": "display_data"
    }
   ],
   "source": [
    "ConfusionMatrixDisplay.from_estimator(gs, X_test, y_test)"
   ]
  },
  {
   "cell_type": "code",
   "execution_count": null,
   "id": "46b179e7-e0a8-4427-b799-9c2c08f06f6b",
   "metadata": {},
   "outputs": [],
   "source": []
  }
 ],
 "metadata": {
  "kernelspec": {
   "display_name": "Python 3 (ipykernel)",
   "language": "python",
   "name": "python3"
  },
  "language_info": {
   "codemirror_mode": {
    "name": "ipython",
    "version": 3
   },
   "file_extension": ".py",
   "mimetype": "text/x-python",
   "name": "python",
   "nbconvert_exporter": "python",
   "pygments_lexer": "ipython3",
   "version": "3.10.6"
  }
 },
 "nbformat": 4,
 "nbformat_minor": 5
}

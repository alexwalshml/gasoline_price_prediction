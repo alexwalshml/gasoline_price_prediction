{
 "cells": [
  {
   "cell_type": "code",
   "execution_count": null,
   "id": "aaf2d4de-671e-4530-9bfe-410436f996b3",
   "metadata": {},
   "outputs": [],
   "source": [
    "'JPMorgan Has 5 Top Pick Oil Service Stocks for the Rest of 2017 – 24',\n",
    "'OPEC Oil Production Declined in October – 24',\n",
    "'Natural Gas Price Dips on Small Inventory Injection – 24',"
   ]
  }
 ],
 "metadata": {
  "kernelspec": {
   "display_name": "Python 3",
   "language": "python",
   "name": "python3"
  },
  "language_info": {
   "codemirror_mode": {
    "name": "ipython",
    "version": 3
   },
   "file_extension": ".py",
   "mimetype": "text/x-python",
   "name": "python",
   "nbconvert_exporter": "python",
   "pygments_lexer": "ipython3",
   "version": "3.9.16"
  }
 },
 "nbformat": 4,
 "nbformat_minor": 5
}

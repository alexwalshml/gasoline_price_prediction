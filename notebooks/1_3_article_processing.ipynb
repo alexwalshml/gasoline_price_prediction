{
 "cells": [
  {
   "cell_type": "code",
   "execution_count": 1,
   "id": "930d5017-8fe3-434e-add8-d7e88deb5653",
   "metadata": {},
   "outputs": [],
   "source": [
    "%load_ext lab_black"
   ]
  },
  {
   "cell_type": "code",
   "execution_count": null,
   "id": "8dcf0664-57e3-4ed2-879c-ca4ecfaeade6",
   "metadata": {},
   "outputs": [],
   "source": [
    "cmd = \"\"\"\n",
    "      SELECT *\n",
    "      FROM source_text\n",
    "      WHERE \n",
    "          text IS NOT NULL AND\n",
    "          title IS NOT NULL;\n",
    "      \"\"\"\n",
    "with open(\"../etc/postgres.password\") as psql_pass_file:\n",
    "    postgres_password = psql_pass_file.read()\n",
    "    conn = connect(\n",
    "        f\"host='localhost' dbname='gdelt' user='postgres' password='{postgres_password}'\"\n",
    "    )\n",
    "    cursor = conn.cursor()"
   ]
  },
  {
   "cell_type": "code",
   "execution_count": null,
   "id": "6ae5ea9e-6da9-4b8d-9543-0b80d4b8d936",
   "metadata": {},
   "outputs": [],
   "source": [
    "import re\n",
    "\n",
    "def extract_dates(text):\n",
    "    # Define the pattern to match dates in various formats\n",
    "    pattern = re.compile(r'\\b(0?[1-9]|[12][0-9]|3[01])[-./](Jan|Feb|Mar|Apr|May|Jun|Jul|Aug|Sep|Oct|Nov|Dec)[-./](\\d{2,4})\\b|\\b(Jan|Feb|Mar|Apr|May|Jun|Jul|Aug|Sep|Oct|Nov|Dec)\\s(0?[1-9]|[12][0-9]|3[01]),?\\s(\\d{2,4})\\b', re.IGNORECASE) # thanks, chatCPT\n",
    "\n",
    "    # Find all matches in the text\n",
    "    matches = pattern.findall(text)\n",
    "\n",
    "    # Return the matches as a list of strings\n",
    "    return ['-'.join(match[0:3]) if match[0:3] != () else f\"{match[3]} {match[4]}, {match[5]}\" for match in matches]"
   ]
  }
 ],
 "metadata": {
  "kernelspec": {
   "display_name": "Python 3 (ipykernel)",
   "language": "python",
   "name": "python3"
  },
  "language_info": {
   "codemirror_mode": {
    "name": "ipython",
    "version": 3
   },
   "file_extension": ".py",
   "mimetype": "text/x-python",
   "name": "python",
   "nbconvert_exporter": "python",
   "pygments_lexer": "ipython3",
   "version": "3.10.6"
  }
 },
 "nbformat": 4,
 "nbformat_minor": 5
}
